{
  "nbformat": 4,
  "nbformat_minor": 0,
  "metadata": {
    "colab": {
      "provenance": []
    },
    "kernelspec": {
      "name": "python3",
      "display_name": "Python 3"
    },
    "language_info": {
      "name": "python"
    }
  },
  "cells": [
    {
      "cell_type": "code",
      "source": [
        "import numpy as np\n",
        "import matplotlib.pyplot as plt\n",
        "import seaborn as sns\n",
        "import math\n",
        "\n",
        "def random_walk(N, n_sim):\n",
        "    \"\"\"Simula una caminata aleatoria 1D con N pasos y repite n_sim veces\"\"\"\n",
        "    steps = np.random.choice([-1, 1], size=(n_sim, N))\n",
        "    positions = np.sum(steps, axis=1)\n",
        "    return positions\n",
        "\n",
        "def opcion_7():\n",
        "    N = int(input(\"Ingrese el número de pasos N: \"))\n",
        "    n_sim = int(input(\"Ingrese el número de simulaciones: \"))\n",
        "\n",
        "    positions = random_walk(N, n_sim)\n",
        "\n",
        "    # Grafico histograma\n",
        "    sns.histplot(positions, bins=50, kde=False, stat=\"density\", color=\"purple\", label=\"Simulación\")\n",
        "\n",
        "    # Distribución gaussiana\n",
        "    x = np.linspace(min(positions), max(positions), 200)\n",
        "    mean = 0\n",
        "    sigma = np.sqrt(N)\n",
        "    gauss = (1/(np.sqrt(2*np.pi)*sigma)) * np.exp(-(x-mean)**2/(2*sigma**2))\n",
        "    plt.plot(x, gauss, color=\"orange\", linewidth=2, label=\"Gaussiana (CLT)\")\n",
        "\n",
        "    plt.xlabel(\"Posición final x\")\n",
        "    plt.ylabel(\"Densidad de probabilidad\")\n",
        "    plt.title(f\"Marcha aleatoria 1D (N={N}, simulaciones={n_sim})\")\n",
        "    plt.legend()\n",
        "    plt.show()\n",
        "\n",
        "\n",
        "    mean_sim = np.mean(positions)\n",
        "    var_sim = np.var(positions)\n",
        "    print(f\"Media simulada = {mean_sim}\")\n",
        "    print(f\"Varianza simulada = {var_sim} (esperada ≈ {N})\")\n",
        "\n",
        "def opcion_8():\n",
        "    N_max = int(input(\"Ingrese el valor máximo de N: \"))\n",
        "    n_sim = int(input(\"Ingrese el número de simulaciones por N: \"))\n",
        "\n",
        "    Ns = np.arange(10, N_max+1, N_max//10)  # valores de N\n",
        "    mean_x = []\n",
        "    mean_x2 = []\n",
        "\n",
        "    for N in Ns:\n",
        "        positions = random_walk(N, n_sim)\n",
        "        mean_x.append(np.mean(positions))\n",
        "        mean_x2.append(np.mean(positions**2))\n",
        "        print(f\"N={N}: <x>={np.mean(positions):.4f}, <x^2>={np.mean(positions**2):.4f}\")\n",
        "\n",
        "    # Grafico <x^2> vs N\n",
        "    plt.plot(Ns, mean_x2, \"o-\", color=\"purple\", label=r\"$\\langle x^2 \\rangle$ simulada\")\n",
        "    plt.plot(Ns, Ns, \"--\", color=\"orange\", label=r\"Ajuste Lineal\")\n",
        "    plt.xlabel(\"N\")\n",
        "    plt.ylabel(r\"$\\langle x^2 \\rangle$\")\n",
        "    plt.title(\"Relación <x^2> vs N\")\n",
        "    plt.legend()\n",
        "    plt.show()\n",
        "\n",
        "    # Calculo de D a partir de <x^2> ≈ 2DN\n",
        "    coeffs = np.polyfit(Ns, mean_x2, 1)  # ajuste lineal\n",
        "    D_num = coeffs[0]/2\n",
        "    print(f\"Constante de difusión estimada D ≈ {D_num:.4f}\")\n",
        "\n",
        "# Menú\n",
        "print(\"Seleccione una opción:\")\n",
        "print(\"1. Índice 7 (Marcha aleatoria)\")\n",
        "print(\"2. Índice 8 (Comparacion de <x^2> con N y determinacion de la constante de difusion D)\")\n",
        "\n",
        "opcion = int(input(\"Opción: \"))\n",
        "if opcion == 1:\n",
        "    opcion_7()\n",
        "elif opcion == 2:\n",
        "    opcion_8()\n",
        "else:\n",
        "    print(\"Opción no válida.\")\n"
      ],
      "metadata": {
        "colab": {
          "base_uri": "https://localhost:8080/"
        },
        "id": "UYVLqEwV1zpz",
        "outputId": "97e6878f-dd51-4aa3-ff3c-f69a7a8335fb"
      },
      "execution_count": null,
      "outputs": [
        {
          "output_type": "stream",
          "name": "stdout",
          "text": [
            "Seleccione una opción:\n",
            "1. Índice 7 (Marcha aleatoria)\n",
            "2. Índice 8 (Comparacion de <x^2> con N y determinacion de la constante de difusion D)\n"
          ]
        }
      ]
    }
  ]
}